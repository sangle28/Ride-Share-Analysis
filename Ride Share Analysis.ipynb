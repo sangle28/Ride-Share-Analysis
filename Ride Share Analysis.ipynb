{
 "cells": [
  {
   "cell_type": "markdown",
   "metadata": {},
   "source": [
    "<div style=\"border:solid blue 2px; padding: 20px\">\n",
    "\n",
    " **Overall Summary of the Project**\n",
    "\n",
    "Dear Sang Le,\n",
    "\n",
    "Congratulations on completing your data analysis project for Zuber! Your notebook is well-organized and provides a comprehensive analysis of taxi ride patterns in Chicago. You've effectively structured your project with clear sections, detailed explanations, and appropriate visualizations. Your work demonstrates a solid understanding of data manipulation, visualization, and statistical hypothesis testing.\n",
    "\n",
    "---\n",
    "\n",
    "<div style=\"border-left: 7px solid green; padding: 10px;\">\n",
    "<b>✅ Strengths:</b>\n",
    "<ul>\n",
    "  <li><b>Data Loading and Preparation:</b> You efficiently loaded the datasets and performed necessary data cleaning, including converting data types and checking for duplicates. Your attention to detail in data preprocessing is commendable.</li>\n",
    "  <li><b>Exploratory Data Analysis:</b> You conducted thorough EDA by identifying the top neighborhoods and taxi companies. Your visualizations effectively highlight key insights, such as the most popular drop-off locations and the taxi companies with the highest trip counts.</li>\n",
    "  <li><b>Visualization Skills:</b> Your use of Seaborn and Matplotlib for visualizations is effective. The bar charts clearly display the distribution of trips, and the boxplot provides a good overview of ride durations across weather conditions.</li>\n",
    "  <li><b>Hypothesis Testing:</b> You correctly formulated the null and alternative hypotheses and applied the two-sample t-test appropriately to compare ride durations between rainy and non-rainy Saturdays.</li>\n",
    "  <li><b>Interpretation of Results:</b> You provided a clear interpretation of your statistical test results, explaining the implications for Zuber's operations.</li>\n",
    "  <li><b>Overall Presentation:</b> Your code is structured logically, and your markdown explanations guide the reader through each step of your analysis effectively.</li>\n",
    "</ul>\n",
    "</div>\n",
    "\n",
    "<div style=\"border-left: 7px solid gold; padding: 10px;\">\n",
    "<b>⚠️ Areas for Improvement:</b>\n",
    "<ul>\n",
    "  <li><b>Formatting and Consistency:</b> Ensuring consistent formatting throughout your notebook, such as uniform use of headings and consistent spacing, can enhance the overall presentation of your work.</li>\n",
    "  <li><b>Additional Insights:</b> While your interpretations are insightful, including more detailed recommendations based on your findings could further strengthen your conclusions. For example, suggesting specific strategies Zuber could implement to address longer ride durations on rainy Saturdays.</li>\n",
    "</ul>\n",
    "</div>\n",
    "\n",
    "<div style=\"border-left: 7px solid red; padding: 10px;\">\n",
    "<b>⛔️ Critical Changes Required:</b>\n",
    "<ul>\n",
    "    None ;)\n",
    "</ul>\n",
    "</div>\n",
    "\n",
    "---\n",
    "\n",
    "**Conclusion**\n",
    "\n",
    "Your project is thorough and well-executed, demonstrating strong analytical skills and attention to detail. You have effectively addressed the critical issue from the previous review by correctly applying the two-sample t-test and providing a detailed interpretation of your findings. Your analysis provides valuable insights that can help Zuber make informed business decisions.\n",
    "\n",
    "Great job! Your project meets all the requirements, and we are happy to approve it.\n",
    "\n",
    "**Next Steps**\n",
    "\n",
    "- **Enhance Recommendations:**\n",
    "  - Based on your findings, provide more specific recommendations for Zuber. For instance, suggest increasing the number of drivers on rainy Saturdays or implementing strategies to reduce ride durations during bad weather.\n",
    "\n",
    "- **Improve Formatting Consistency:**\n",
    "  - Ensure uniform use of heading levels and consistent spacing between sections to enhance the professional appearance of your notebook.\n",
    "\n",
    "- **Explore Additional Analyses:**\n",
    "  - Consider exploring other factors that might influence ride durations, such as time of day or specific locations within the top neighborhoods, to provide a more comprehensive analysis.\n",
    "\n",
    "If you have any questions or need further assistance in future projects, please feel free to reach out. Keep up the excellent work!\n",
    "\n",
    "Best regards,\n",
    "\n",
    "Matías\n",
    "\n",
    "</div>"
   ]
  },
  {
   "cell_type": "markdown",
   "metadata": {},
   "source": [
    "# Importing"
   ]
  },
  {
   "cell_type": "code",
   "execution_count": null,
   "metadata": {},
   "outputs": [],
   "source": [
    "# importing libraries\n",
    "\n",
    "import pandas as pd\n",
    "import math\n",
    "from scipy import stats as st\n",
    "import numpy as np\n",
    "import seaborn as sns\n",
    "import matplotlib.pyplot as plt"
   ]
  },
  {
   "cell_type": "code",
   "execution_count": null,
   "metadata": {},
   "outputs": [],
   "source": [
    "# reading in datasets \n",
    "\n",
    "rides_per_company = pd.read_csv('/datasets/project_sql_result_01.csv')\n",
    "\n",
    "trips_per_location = pd.read_csv('/datasets/project_sql_result_04.csv')\n",
    "\n",
    "loop_ohare = pd.read_csv('/datasets/project_sql_result_07.csv')"
   ]
  },
  {
   "cell_type": "code",
   "execution_count": null,
   "metadata": {},
   "outputs": [],
   "source": [
    "# reading in datasets \n",
    "\n",
    "rides_per_company = pd.read_csv('/datasets/project_sql_result_01.csv')\n",
    "\n",
    "trips_per_location = pd.read_csv('/datasets/project_sql_result_04.csv')\n",
    "\n",
    "loop_ohare = pd.read_csv('/datasets/project_sql_result_07.csv')\n",
    "# inspecting dataframes\n",
    "\n",
    "rides_per_company.info()\n",
    "\n",
    "rides_per_company.head()"
   ]
  },
  {
   "cell_type": "code",
   "execution_count": null,
   "metadata": {},
   "outputs": [],
   "source": [
    "trips_per_location.info()\n",
    "\n",
    "trips_per_location.head()"
   ]
  },
  {
   "cell_type": "code",
   "execution_count": null,
   "metadata": {},
   "outputs": [],
   "source": [
    "\n",
    "loop_ohare.info()\n",
    "\n",
    "loop_ohare.head()"
   ]
  },
  {
   "cell_type": "markdown",
   "metadata": {},
   "source": [
    "Observations\n",
    "\n",
    "Data types look fine, aside from start_ts in loop_ohare being an object -- we'll want to turn that into datetime in case we need such calculations in the future."
   ]
  },
  {
   "cell_type": "markdown",
   "metadata": {},
   "source": [
    "# Cleaning Data"
   ]
  },
  {
   "cell_type": "code",
   "execution_count": null,
   "metadata": {},
   "outputs": [],
   "source": [
    "loop_ohare['start_ts'] = pd.to_datetime(loop_ohare['start_ts'], format='%Y-%m-%d %H:%M:%S')\n",
    "\n",
    "loop_ohare.info()\n",
    "loop_ohare.head()"
   ]
  },
  {
   "cell_type": "markdown",
   "metadata": {},
   "source": [
    "# Exploratory Data Analysis"
   ]
  },
  {
   "cell_type": "markdown",
   "metadata": {},
   "source": [
    "Identifying the top 10 neighborhoods by drop-offs"
   ]
  },
  {
   "cell_type": "code",
   "execution_count": null,
   "metadata": {},
   "outputs": [],
   "source": [
    "# sorting our trips_per_location df and looking at the top 10 neighborhoods\n",
    "\n",
    "trips_per_location = trips_per_location.sort_values(by='average_trips', ascending=False)\n",
    "\n",
    "trips_per_location.head(10)"
   ]
  },
  {
   "cell_type": "code",
   "execution_count": null,
   "metadata": {},
   "outputs": [],
   "source": [
    "\n",
    "# plotting a boxplot of the top ten dropoff locations\n",
    "\n",
    "top_locations = trips_per_location.head(10)\n",
    "\n",
    "sns.catplot(kind='bar',\n",
    "            data=top_locations,\n",
    "            x='dropoff_location_name',\n",
    "            y='average_trips',\n",
    "            height=5,\n",
    "            aspect=2\n",
    "           )\n",
    "\n",
    "plt.title('Average Dropoffs Per Location')\n",
    "plt.xlabel('Location')\n",
    "plt.ylabel('Average Trips')\n",
    "plt.xticks(rotation = 25)\n",
    "plt.show()"
   ]
  },
  {
   "cell_type": "markdown",
   "metadata": {},
   "source": [
    "Observations\n",
    "\n",
    "We can clearly see that Loop is the most common dropoff location. The interesting part is how much of a lead the top 4 locations have over the rest of the top 10.\n",
    "\n",
    "Loop, River North, Streeterville and West Loop are all significantly more popular than the rest of the locations, which taper off to roughly similar amounts.\n",
    "\n",
    "Without having intimiate knowledge of the Chicago area, we may be able to conclude that these 4 locations are very important to travels, because they go there very frequently."
   ]
  },
  {
   "cell_type": "markdown",
   "metadata": {},
   "source": [
    "Identifying top taxi companies"
   ]
  },
  {
   "cell_type": "code",
   "execution_count": null,
   "metadata": {},
   "outputs": [],
   "source": [
    "# sorted out rides_per_company df to identify the top 10 taxi companies by number of rides\n",
    "\n",
    "rides_per_company = rides_per_company.sort_values(by='trips_amount', ascending=False)\n",
    "\n",
    "rides_per_company.head(10)"
   ]
  },
  {
   "cell_type": "code",
   "execution_count": null,
   "metadata": {},
   "outputs": [],
   "source": [
    "\n",
    "# plotting this, similar to above\n",
    "\n",
    "top_companies = rides_per_company.head(10)\n",
    "\n",
    "sns.catplot(kind='bar',\n",
    "            data=top_companies,\n",
    "            x='company_name',\n",
    "            y='trips_amount',\n",
    "            height=5,\n",
    "            aspect=2\n",
    "           )\n",
    "\n",
    "plt.title('Trips per Taxi Company')\n",
    "plt.xlabel('Company')\n",
    "plt.ylabel('Number of Trips')\n",
    "plt.xticks(rotation = 80)\n",
    "plt.show()"
   ]
  },
  {
   "cell_type": "markdown",
   "metadata": {},
   "source": [
    "Observations\n",
    "\n",
    "Flash Cab is wildly more popular than all the rest of the taxi companies -- nearly double the trips! The other 9 are all much more similar, with a gradual decline between number 2 and number 9. This tells us just how much bigger and more popular Flash Cab is than all the rest.\n",
    "\n",
    "Testing Hypotheses\n",
    "We will be testing the following hypothesis, using the data we generated from the database, stored in our loop_ohare dataframe:\n",
    "\n",
    "\"The average duration of rides from the Loop to O'Hare International Airport changes on rainy Saturdays.\"\n",
    "\n",
    "Null Hypothesis: The average duration of rides from the Loop to O'Hare International Airport does not change on rainy Saturdays.\n",
    "\n",
    "Alternative Hypothesis: The average duration of rides from the Loop to O'Hare International Airport changes on rainy Saturdays."
   ]
  },
  {
   "cell_type": "code",
   "execution_count": null,
   "metadata": {},
   "outputs": [],
   "source": [
    "# creating a day_of_week column to identify only saturdays\n",
    "loop_ohare[\"day_of_week\"] = loop_ohare[\"start_ts\"].dt.dayofweek\n",
    "\n",
    "print(loop_ohare[\"day_of_week\"].value_counts())"
   ]
  },
  {
   "cell_type": "code",
   "execution_count": null,
   "metadata": {},
   "outputs": [],
   "source": [
    "# splitting our loop_ohare dataframe into two samples, for good and rainy weather\n",
    "\n",
    "good_saturdays = loop_ohare.query('weather_conditions == \"Good\"')\n",
    "\n",
    "bad_saturdays = loop_ohare.query('weather_conditions == \"Bad\"')\n",
    "\n",
    "display(good_saturdays.head())\n",
    "display(bad_saturdays.head())"
   ]
  },
  {
   "cell_type": "code",
   "execution_count": null,
   "metadata": {},
   "outputs": [],
   "source": [
    "# testing our hypothesis\n",
    "\n",
    "alpha = 0.05 \n",
    "\n",
    "results = st.ttest_ind(good_saturdays['duration_seconds'], bad_saturdays['duration_seconds'], equal_var=False)\n",
    "\n",
    "print('p-value:', results.pvalue)\n",
    "\n",
    "if (results.pvalue < alpha):\n",
    "    print(\"We reject the null hypothesis\")\n",
    "else:\n",
    "    print(\"We can't reject the null hypothesis\")"
   ]
  },
  {
   "cell_type": "markdown",
   "metadata": {},
   "source": [
    "Observations\n",
    "\n",
    "After running our test, we have sufficient evidence to reject the null hypothesis, meaning that there is a statistically significant difference between the average duration of rides from Loop to O'Hare on rainy Saturdays vs good weather Saturdays.\n",
    "\n",
    "We do not yet know what the difference is, but we can certainly find out.\n",
    "\n",
    "Regarding the test, I chose an alpha value of 0.05, because it is the popularly accepted significance level for hypothesis testing. I used st.ttest_ind because we are testing the means of two independent samples, that do not have an equal variance between them."
   ]
  },
  {
   "cell_type": "code",
   "execution_count": null,
   "metadata": {},
   "outputs": [],
   "source": [
    "# looking at the average duration of good weather rides and bad weather rides\n",
    "\n",
    "good_average = good_saturdays['duration_seconds'].mean()\n",
    "bad_average = bad_saturdays['duration_seconds'].mean()\n",
    "\n",
    "print('Average ride duration on good weather Saturdays:', good_average)\n",
    "print('Average ride duration on bad weather Saturdays:', bad_average)"
   ]
  },
  {
   "cell_type": "code",
   "execution_count": null,
   "metadata": {},
   "outputs": [],
   "source": [
    "# plotting this to understand the magnitude in difference\n",
    "d={'weather_conditions': loop_ohare['weather_conditions'], 'duration_seconds': loop_ohare['duration_seconds']}\n",
    "loop_ohare_dist = pd.DataFrame(data=d)\n",
    "\n",
    "sns.catplot(kind='box',\n",
    "           data=loop_ohare_dist,\n",
    "           x='duration_seconds',\n",
    "           y='weather_conditions',\n",
    "            height=5,\n",
    "            aspect=3\n",
    "           )\n",
    "\n",
    "plt.title('Ride Duration According to Weather Conditions')\n",
    "plt.xlabel('Ride Duration in Seconds')\n",
    "plt.ylabel('Weather Conditions')\n",
    "plt.show()"
   ]
  },
  {
   "cell_type": "markdown",
   "metadata": {},
   "source": [
    "Observations\n",
    "\n",
    "Looking at both our mean data and the box plot, we can confidently conclude that the average ride duration is longer on rainy Saturdays.\n",
    "\n",
    "Conclusion\n",
    "Throughout this project, I followed through on the full process of scraping the data from a website, querying it once it was stored in an organized SQL database, and analyzing the database exports using Python.\n",
    "\n",
    "I was able to pull some helpful data slices using SQL so that we could further analyze that data using Python, in a useful way.\n",
    "\n",
    "I was able to find the top 10 Taxi companies, which was unanimously Flash Cab, by a landslide. They are significantly more popular than any other Taxi company.\n",
    "\n",
    "I identified the most popular dropoff locations, with the top 4 of those locations, Loop, River North, Streeterville and West Loop, all being significantly more popular than the rest of the top 10. We concluded earlier that those locations are likely important to the average traveler, since so many people end up there.\n",
    "\n",
    "Finally, I tested the hypothesis that the average duration of rides from the Loop to O'Hare International Airport changes on rainy Saturdays.\n",
    "\n",
    "I created the following Null and Alternative hypotheses:\n",
    "\n",
    "Null Hypothesis: The average duration of rides from the Loop to O'Hare International Airport does not change on rainy Saturdays.\n",
    "\n",
    "Alternative Hypothesis: The average duration of rides from the Loop to O'Hare International Airport changes on rainy Saturdays.\n",
    "\n",
    "The results of the test led me to being able to reject the Null hypothesis, which I then dug deeper to figure out the real story of the data. we can confidently conclude that the average ride duration is longer on rainy Saturdays."
   ]
  }
 ],
 "metadata": {
  "ExecuteTimeLog": [
   {
    "duration": 2480,
    "start_time": "2024-12-09T13:03:31.855Z"
   },
   {
    "duration": 3,
    "start_time": "2024-12-09T13:10:16.411Z"
   },
   {
    "duration": 20,
    "start_time": "2024-12-09T13:10:16.416Z"
   },
   {
    "duration": 21,
    "start_time": "2024-12-09T13:10:16.437Z"
   },
   {
    "duration": 11,
    "start_time": "2024-12-09T13:10:16.459Z"
   },
   {
    "duration": 10,
    "start_time": "2024-12-09T13:10:16.472Z"
   },
   {
    "duration": 12,
    "start_time": "2024-12-09T13:10:16.485Z"
   },
   {
    "duration": 6,
    "start_time": "2024-12-09T13:10:16.499Z"
   },
   {
    "duration": 338,
    "start_time": "2024-12-09T13:10:16.507Z"
   },
   {
    "duration": 7,
    "start_time": "2024-12-09T13:10:16.847Z"
   },
   {
    "duration": 368,
    "start_time": "2024-12-09T13:10:16.870Z"
   },
   {
    "duration": 5,
    "start_time": "2024-12-09T13:10:17.240Z"
   },
   {
    "duration": 19,
    "start_time": "2024-12-09T13:10:17.246Z"
   },
   {
    "duration": 4,
    "start_time": "2024-12-09T13:10:17.267Z"
   },
   {
    "duration": 3,
    "start_time": "2024-12-09T13:10:17.275Z"
   },
   {
    "duration": 274,
    "start_time": "2024-12-09T13:10:17.279Z"
   }
  ],
  "kernelspec": {
   "display_name": "Python 3 (ipykernel)",
   "language": "python",
   "name": "python3"
  },
  "language_info": {
   "codemirror_mode": {
    "name": "ipython",
    "version": 3
   },
   "file_extension": ".py",
   "mimetype": "text/x-python",
   "name": "python",
   "nbconvert_exporter": "python",
   "pygments_lexer": "ipython3",
   "version": "3.9.19"
  },
  "toc": {
   "base_numbering": 1,
   "nav_menu": {},
   "number_sections": true,
   "sideBar": true,
   "skip_h1_title": true,
   "title_cell": "Table of Contents",
   "title_sidebar": "Contents",
   "toc_cell": false,
   "toc_position": {},
   "toc_section_display": true,
   "toc_window_display": false
  }
 },
 "nbformat": 4,
 "nbformat_minor": 2
}
